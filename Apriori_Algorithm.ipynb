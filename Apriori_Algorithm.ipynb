{
 "cells": [
  {
   "cell_type": "code",
   "execution_count": 62,
   "metadata": {
    "colab": {},
    "colab_type": "code",
    "id": "W-IzOGLJqfJW"
   },
   "outputs": [],
   "source": [
    "import numpy as np \n",
    "import pandas as pd\n"
   ]
  },
  {
   "cell_type": "markdown",
   "metadata": {
    "colab_type": "text",
    "id": "O6My2sSnqfJc"
   },
   "source": [
    "## Code to convert the CSV data to the standard format [List of Lists]"
   ]
  },
  {
   "cell_type": "code",
   "execution_count": 63,
   "metadata": {
    "colab": {},
    "colab_type": "code",
    "id": "Rc3E0Ur0qfJd"
   },
   "outputs": [],
   "source": [
    "Market_Data = pd.read_csv('~/Downloads/Market_Basket_Data.csv',index_col=None, header = None ) #Use your local path here\n",
    "\n",
    "Data = Market_Data.fillna('Zero')\n",
    "DataList = Data.values.tolist()\n",
    "\n",
    "tempData = []\n",
    "\n",
    "for transaction in DataList:\n",
    "    tempTransaction = []\n",
    "    for item in transaction:\n",
    "        if item != 'Zero': \n",
    "            tempTransaction.append(item)\n",
    "    tempData.append(tempTransaction)\n",
    "\n",
    "dataSet = tempData\n"
   ]
  },
  {
   "cell_type": "code",
   "execution_count": 64,
   "metadata": {
    "colab": {},
    "colab_type": "code",
    "id": "V_Bf-7gpqfJj"
   },
   "outputs": [],
   "source": [
    "SampledataSet = [['apple', 'orange', 'pineapple'], ['orange', 'apple'], ['kiwi', 'grapes', 'apple', 'orange'], ['apple','orange', 'banana'], ['apple','banana']]"
   ]
  },
  {
   "cell_type": "markdown",
   "metadata": {
    "colab_type": "text",
    "id": "PPAiW7FlqfJm"
   },
   "source": [
    "## Frequent Itemset generation"
   ]
  },
  {
   "cell_type": "code",
   "execution_count": 65,
   "metadata": {
    "colab": {},
    "colab_type": "code",
    "id": "tJWZCKKWqfJn"
   },
   "outputs": [],
   "source": [
    "# Code demonstrated In Live Session for Creating ItemSets\n",
    "\n",
    "# For the given dataset write a function to return the list of distinct items in the dataset\n",
    "def createItem(dataSet):\n",
    "    \n",
    "    ItemList = []\n",
    "    \n",
    "    for transaction in dataSet:\n",
    "        for item in transaction:\n",
    "            if not [item] in ItemList:\n",
    "                ItemList.append([item])\n",
    "    ItemList.sort()\n",
    "    \n",
    "    return list(map(frozenset, ItemList))\n",
    "\n",
    "\n",
    "# Returns a Itemset and dictionary with Support values \n",
    "def scanData(data, itemsetk, minSupport):\n",
    "    tempDict = {}\n",
    "    \n",
    "    for transaction in data:\n",
    "        for item in itemsetk:\n",
    "            if item.issubset(transaction):\n",
    "                if not item in tempDict: tempDict[item]=1\n",
    "                else: tempDict[item] += 1\n",
    "    \n",
    "    numItems = float(len(data))\n",
    "    freqItemset = []\n",
    "    supportDict = {}\n",
    "    \n",
    "    for key in tempDict:\n",
    "        support = tempDict[key]/numItems\n",
    "        \n",
    "        if support >= minSupport:\n",
    "            freqItemset.insert(0,key)\n",
    "        supportDict[key] = support\n",
    "    \n",
    "    return freqItemset, supportDict\n",
    "\n",
    "\n",
    "\n",
    "#creates Higher order Itemsets\n",
    "def itemSetGenerator(itemsetk, k):\n",
    "    higherOrderitemset = []\n",
    "    lenitemsetk = len(itemsetk)\n",
    "    \n",
    "    \n",
    "    for i in range(lenitemsetk):\n",
    "        for j in range(i+1, lenitemsetk): \n",
    "            L1 = list(itemsetk[i])[:k-2]\n",
    "            L2 = list(itemsetk[j])[:k-2]\n",
    "            L1.sort() \n",
    "            L2.sort()\n",
    "            if L1==L2: #if first k-2 elements are equal\n",
    "                higherOrderitemset.append(itemsetk[i] | itemsetk[j]) # Performing set union creates itemset with n+1 items\n",
    "    return higherOrderitemset\n",
    "\n",
    "\n",
    "def apriori(dataSet, minSupport = 0.1):\n",
    "\n",
    "    itemList = createItem(dataSet) # Create list of items \n",
    "    data = list(map(set, dataSet)) # convert the traansactions to a set\n",
    "    \n",
    "    freqItemset1, supportDict = scanData(data, itemList, minSupport) #Returns a itemset and dictionary with support values\n",
    "    freqItemsets = [freqItemset1]\n",
    "    k = 2\n",
    "    \n",
    "    while (len(freqItemsets[k-2]) > 0):\n",
    "        \n",
    "        itemsetk = itemSetGenerator(freqItemsets[k-2], k)\n",
    "        \n",
    "        freqItemsetk, supportDictk = scanData(data, itemsetk, minSupport) #scan Data to get k itemset\n",
    "        \n",
    "        supportDict.update(supportDictk)\n",
    "        freqItemsets.append(freqItemsetk)\n",
    "        \n",
    "        k += 1\n",
    "    return freqItemsets, supportDict\n"
   ]
  },
  {
   "cell_type": "markdown",
   "metadata": {
    "colab_type": "text",
    "id": "FLND4K70qfJp"
   },
   "source": [
    "Calculate the maximum possible two itemsets.\n",
    "- 140\n",
    "- 120\n",
    "- 7140\n",
    "- 5240"
   ]
  },
  {
   "cell_type": "code",
   "execution_count": 66,
   "metadata": {
    "colab": {},
    "colab_type": "code",
    "id": "9XE4mK0IqfJq"
   },
   "outputs": [],
   "source": [
    "# Identify the distinct items involved in the dataset\n",
    "\n"
   ]
  },
  {
   "cell_type": "code",
   "execution_count": 67,
   "metadata": {
    "colab": {},
    "colab_type": "code",
    "id": "ogjzvah1qfJu"
   },
   "outputs": [],
   "source": [
    "# Calculate the number of possible two itemsets\n"
   ]
  },
  {
   "cell_type": "markdown",
   "metadata": {
    "colab_type": "text",
    "id": "b0vYe3XsqfJx"
   },
   "source": [
    " Identify the support of itemset {'eggs','mineral water','spaghetti'} [ Round the value upto three decimal points]\n",
    "\n",
    "- 0.022\n",
    "- 0.034\n",
    "- 0.014\n",
    "- 0.052\n",
    "\n",
    "Identify the number of transaction where items eggs, mineral water and spaghetti are bought together\n",
    "\n",
    "- 165\n",
    "- 255\n",
    "- 392\n",
    "- 107"
   ]
  },
  {
   "cell_type": "code",
   "execution_count": 68,
   "metadata": {
    "colab": {},
    "colab_type": "code",
    "id": "IaI_rfm0qfJy"
   },
   "outputs": [],
   "source": [
    "# Find the support of the itemset {'eggs', 'mineral water', 'spaghetti'}\n"
   ]
  },
  {
   "cell_type": "code",
   "execution_count": 69,
   "metadata": {
    "colab": {},
    "colab_type": "code",
    "id": "1FFqZrfJqfJ1"
   },
   "outputs": [],
   "source": [
    "# Identify the total number of Transactions in the dataset\n"
   ]
  },
  {
   "cell_type": "markdown",
   "metadata": {
    "colab_type": "text",
    "id": "LUMVTTXcqfJ6"
   },
   "source": [
    "Identify the number of frequent itemsets involving both chocolate and mineral water if minSupport is defined as 0.001\n",
    "\n",
    "- 244\n",
    "- 502\n",
    "- 343\n",
    "- 156"
   ]
  },
  {
   "cell_type": "code",
   "execution_count": 70,
   "metadata": {
    "colab": {},
    "colab_type": "code",
    "id": "0KZOynEtqfJ7"
   },
   "outputs": [],
   "source": [
    "# Generate the frequent itemsets when minSupport = 0.001\n"
   ]
  },
  {
   "cell_type": "code",
   "execution_count": 71,
   "metadata": {
    "colab": {},
    "colab_type": "code",
    "id": "WRCocOHEqfJ_"
   },
   "outputs": [],
   "source": [
    "# Write a code to find the number of frequent itemset containing both chocolate and mineral water\n",
    "\n"
   ]
  },
  {
   "cell_type": "markdown",
   "metadata": {
    "colab_type": "text",
    "id": "EJj3qJ-oqfKC"
   },
   "source": [
    "## Rule Generation"
   ]
  },
  {
   "cell_type": "code",
   "execution_count": 72,
   "metadata": {
    "colab": {},
    "colab_type": "code",
    "id": "SelwPmIDqfKE"
   },
   "outputs": [],
   "source": [
    "# Program to generate rules from the dataset\n",
    "\n",
    "def calcConf(freqSet, H, supportDict, bigRuleList, minConf):\n",
    "    prunedH = [] #create new list to return\n",
    "    for conseq in H:\n",
    "        conf = supportDict[freqSet]/supportDict[freqSet-conseq] #calculate confidence\n",
    "        if conf >= minConf:\n",
    "            bigRuleList.append((freqSet-conseq, conseq, conf))\n",
    "            prunedH.append(conseq)\n",
    "    return prunedH\n",
    "\n",
    "def rulesFromConseq(freqSet, H, supportDict, bigRuleList, minConf):\n",
    "    m = len(H[0]) \n",
    "    if (len(freqSet) > (m + 1)): #try further merging\n",
    "        Hmp1 = itemSetGenerator(H, m+1)#create Hm+1 new candidates \n",
    "        Hmp1 = calcConf(freqSet, Hmp1, supportDict, bigRuleList, minConf) \n",
    "        if (len(Hmp1) > 1):    #need at least two sets to merge\n",
    "            rulesFromConseq(freqSet, Hmp1, supportDict, bigRuleList, minConf)\n",
    "\n",
    "def generateRules(freqItemsets, supportDict, minConf):  #supportDict is a dictionary coming from scanData\n",
    "    bigRuleList = []\n",
    "    for i in range(1, len(freqItemsets)): #Only get the sets with two or more items\n",
    "        for freqSet in freqItemsets[i]:\n",
    "            H1 = [frozenset([item]) for item in freqSet]  \n",
    "            if (i > 1):\n",
    "                rulesFromConseq(freqSet, H1, supportDict, bigRuleList, minConf)\n",
    "            else:\n",
    "                calcConf(freqSet, H1, supportDict, bigRuleList, minConf)\n",
    "    return bigRuleList \n"
   ]
  },
  {
   "cell_type": "markdown",
   "metadata": {
    "colab_type": "text",
    "id": "g4_jNCBVqfKI"
   },
   "source": [
    "In order to  identify interesting rules from the dataset, you use constraints on metrics such as support, confidence, lift. Implement the measure lift and find out the rules with minSupport=0.05, minConf = 0.2 and lift > 1.2\n",
    "\n",
    "Ref Link - https://en.wikipedia.org/wiki/Lift_(data_mining)\n",
    "\n",
    "- 4\n",
    "- 6\n",
    "- 18\n",
    "- 0\n"
   ]
  },
  {
   "cell_type": "code",
   "execution_count": 73,
   "metadata": {
    "colab": {},
    "colab_type": "code",
    "id": "7L0MJSe6qfKK"
   },
   "outputs": [],
   "source": [
    "# In the code for generating rules, implement the computation of Lift\n"
   ]
  },
  {
   "cell_type": "code",
   "execution_count": 74,
   "metadata": {
    "colab": {},
    "colab_type": "code",
    "id": "5SphPOAxqfKO"
   },
   "outputs": [],
   "source": [
    "# Generate the rules when minSupport = 0.05, minConfidence = 0.2 and lift >1.2 \n"
   ]
  },
  {
   "cell_type": "code",
   "execution_count": 75,
   "metadata": {
    "colab": {},
    "colab_type": "code",
    "id": "AyE8ddjyqfKR"
   },
   "outputs": [],
   "source": [
    "# count the number of rules\n"
   ]
  },
  {
   "cell_type": "markdown",
   "metadata": {
    "colab_type": "text",
    "id": "QI_aTpnNqfKV"
   },
   "source": [
    "Imagine that for some threshold support value, the itemset  {'eggs','chocolate','spaghetti'} is found to be a frequent itemset. Now for the rule {'chocolate'} --> {'spaghetti', 'eggs'} to be valid what can be the max value of minConfidence? [More than one answer type question]\n",
    "\n",
    "- 0.08\n",
    "- 0.04\n",
    "- 0.06\n",
    "- 0.01"
   ]
  },
  {
   "cell_type": "code",
   "execution_count": 76,
   "metadata": {
    "colab": {},
    "colab_type": "code",
    "id": "HzDsqKeZqfKW"
   },
   "outputs": [],
   "source": [
    "#Itendify the support of {'eggs', 'mineral water', 'chocolate'}\n"
   ]
  },
  {
   "cell_type": "code",
   "execution_count": 77,
   "metadata": {
    "colab": {},
    "colab_type": "code",
    "id": "dxw9Mr5zqfKZ"
   },
   "outputs": [],
   "source": [
    "# What will be the confidence of the rule {'chocolate'} --> {'spaghetti', 'eggs'}\n",
    "\n"
   ]
  }
 ],
 "metadata": {
  "colab": {
   "collapsed_sections": [],
   "name": "Apriori Algorithm.ipynb",
   "provenance": []
  },
  "kernelspec": {
   "display_name": "Python 3",
   "language": "python",
   "name": "python3"
  },
  "language_info": {
   "codemirror_mode": {
    "name": "ipython",
    "version": 3
   },
   "file_extension": ".py",
   "mimetype": "text/x-python",
   "name": "python",
   "nbconvert_exporter": "python",
   "pygments_lexer": "ipython3",
   "version": "3.7.0"
  }
 },
 "nbformat": 4,
 "nbformat_minor": 1
}
